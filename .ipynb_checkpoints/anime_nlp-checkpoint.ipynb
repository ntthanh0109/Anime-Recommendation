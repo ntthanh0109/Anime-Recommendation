{
 "cells": [
  {
   "cell_type": "markdown",
   "id": "cb8b5da9",
   "metadata": {
    "papermill": {
     "duration": 0.012637,
     "end_time": "2022-11-25T13:35:00.495412",
     "exception": false,
     "start_time": "2022-11-25T13:35:00.482775",
     "status": "completed"
    },
    "tags": []
   },
   "source": [
    "# Anime with Content Based Recommendation  "
   ]
  },
  {
   "cell_type": "markdown",
   "id": "68f1119d",
   "metadata": {
    "papermill": {
     "duration": 0.009907,
     "end_time": "2022-11-25T13:35:00.515851",
     "exception": false,
     "start_time": "2022-11-25T13:35:00.505944",
     "status": "completed"
    },
    "tags": []
   },
   "source": [
    "## Business Problem: Viewers can spend hours scrolling through hundreds, sometimes thousands of anime's but never getting a content they like. Businesses need to provide suggestions based on viewers likings and needs in order to create a better streaming environment that boosts revenue and increases the time spent on a website."
   ]
  },
  {
   "cell_type": "markdown",
   "id": "a24d697c",
   "metadata": {
    "papermill": {
     "duration": 0.010313,
     "end_time": "2022-11-25T13:35:00.559638",
     "exception": false,
     "start_time": "2022-11-25T13:35:00.549325",
     "status": "completed"
    },
    "tags": []
   },
   "source": [
    "## Dataset Details: Content has its own viewers and each content has it's rating.\n",
    "## 1. anime_data:\n",
    "## * anime_id: unique id identifying an anime.\n",
    "## * name: full name of anime.\n",
    "## * genre: comma separated list of genres for this anime.\n",
    "## * type: movie, TV, OVA, etc.\n",
    "## * episodes: how many episodes in this show. (1 if movie).\n",
    "## * rating: average rating out of 10 for this anime.\n",
    "## * members: number of community members that are in this anime's \"group\"."
   ]
  },
  {
   "cell_type": "markdown",
   "id": "e090149d",
   "metadata": {
    "papermill": {
     "duration": 0.010061,
     "end_time": "2022-11-25T13:35:00.580158",
     "exception": false,
     "start_time": "2022-11-25T13:35:00.570097",
     "status": "completed"
    },
    "tags": []
   },
   "source": [
    "### This data set contains information on user preference data from 73,516 users on 12,294 anime. Each user is able to add anime to their completed list and give it a rating and this data set is a compilation of those ratings."
   ]
  },
  {
   "cell_type": "code",
   "execution_count": 58,
   "id": "913b3c2c",
   "metadata": {
    "execution": {
     "iopub.execute_input": "2022-11-25T13:35:00.602913Z",
     "iopub.status.busy": "2022-11-25T13:35:00.602402Z",
     "iopub.status.idle": "2022-11-25T13:35:02.191404Z",
     "shell.execute_reply": "2022-11-25T13:35:02.189450Z"
    },
    "papermill": {
     "duration": 1.604956,
     "end_time": "2022-11-25T13:35:02.195465",
     "exception": false,
     "start_time": "2022-11-25T13:35:00.590509",
     "status": "completed"
    },
    "tags": []
   },
   "outputs": [],
   "source": [
    "import pandas as pd\n",
    "import numpy as np\n",
    "import seaborn as sns\n",
    "import matplotlib.pyplot as plt\n",
    "import warnings # warning filter\n",
    "import scipy as sp\n",
    "from sklearn.feature_extraction.text import TfidfVectorizer\n",
    "from sklearn.metrics.pairwise import cosine_similarity\n",
    "\n",
    "pd.set_option('display.max_columns', 500)"
   ]
  },
  {
   "cell_type": "code",
   "execution_count": 59,
   "id": "6350d17e",
   "metadata": {
    "execution": {
     "iopub.execute_input": "2022-11-25T13:35:02.219767Z",
     "iopub.status.busy": "2022-11-25T13:35:02.219347Z",
     "iopub.status.idle": "2022-11-25T13:35:02.225522Z",
     "shell.execute_reply": "2022-11-25T13:35:02.223857Z"
    },
    "papermill": {
     "duration": 0.022087,
     "end_time": "2022-11-25T13:35:02.228190",
     "exception": false,
     "start_time": "2022-11-25T13:35:02.206103",
     "status": "completed"
    },
    "tags": []
   },
   "outputs": [],
   "source": [
    "# ignore warnings\n",
    "import warnings\n",
    "warnings.filterwarnings('ignore')"
   ]
  },
  {
   "cell_type": "code",
   "execution_count": 60,
   "id": "ae6c2b18",
   "metadata": {
    "execution": {
     "iopub.execute_input": "2022-11-25T13:35:02.254545Z",
     "iopub.status.busy": "2022-11-25T13:35:02.254124Z",
     "iopub.status.idle": "2022-11-25T13:35:02.358578Z",
     "shell.execute_reply": "2022-11-25T13:35:02.357310Z"
    },
    "papermill": {
     "duration": 0.123138,
     "end_time": "2022-11-25T13:35:02.361924",
     "exception": false,
     "start_time": "2022-11-25T13:35:02.238786",
     "status": "completed"
    },
    "tags": []
   },
   "outputs": [
    {
     "data": {
      "text/html": [
       "<div>\n",
       "<style scoped>\n",
       "    .dataframe tbody tr th:only-of-type {\n",
       "        vertical-align: middle;\n",
       "    }\n",
       "\n",
       "    .dataframe tbody tr th {\n",
       "        vertical-align: top;\n",
       "    }\n",
       "\n",
       "    .dataframe thead th {\n",
       "        text-align: right;\n",
       "    }\n",
       "</style>\n",
       "<table border=\"1\" class=\"dataframe\">\n",
       "  <thead>\n",
       "    <tr style=\"text-align: right;\">\n",
       "      <th></th>\n",
       "      <th>anime_id</th>\n",
       "      <th>name</th>\n",
       "      <th>genre</th>\n",
       "      <th>type</th>\n",
       "      <th>episodes</th>\n",
       "      <th>rating</th>\n",
       "      <th>members</th>\n",
       "    </tr>\n",
       "  </thead>\n",
       "  <tbody>\n",
       "    <tr>\n",
       "      <th>0</th>\n",
       "      <td>32281</td>\n",
       "      <td>Kimi no Na wa.</td>\n",
       "      <td>Drama, Romance, School, Supernatural</td>\n",
       "      <td>Movie</td>\n",
       "      <td>1</td>\n",
       "      <td>9.37</td>\n",
       "      <td>200630</td>\n",
       "    </tr>\n",
       "    <tr>\n",
       "      <th>1</th>\n",
       "      <td>5114</td>\n",
       "      <td>Fullmetal Alchemist: Brotherhood</td>\n",
       "      <td>Action, Adventure, Drama, Fantasy, Magic, Mili...</td>\n",
       "      <td>TV</td>\n",
       "      <td>64</td>\n",
       "      <td>9.26</td>\n",
       "      <td>793665</td>\n",
       "    </tr>\n",
       "    <tr>\n",
       "      <th>2</th>\n",
       "      <td>28977</td>\n",
       "      <td>Gintama°</td>\n",
       "      <td>Action, Comedy, Historical, Parody, Samurai, S...</td>\n",
       "      <td>TV</td>\n",
       "      <td>51</td>\n",
       "      <td>9.25</td>\n",
       "      <td>114262</td>\n",
       "    </tr>\n",
       "    <tr>\n",
       "      <th>3</th>\n",
       "      <td>9253</td>\n",
       "      <td>Steins;Gate</td>\n",
       "      <td>Sci-Fi, Thriller</td>\n",
       "      <td>TV</td>\n",
       "      <td>24</td>\n",
       "      <td>9.17</td>\n",
       "      <td>673572</td>\n",
       "    </tr>\n",
       "    <tr>\n",
       "      <th>4</th>\n",
       "      <td>9969</td>\n",
       "      <td>Gintama&amp;#039;</td>\n",
       "      <td>Action, Comedy, Historical, Parody, Samurai, S...</td>\n",
       "      <td>TV</td>\n",
       "      <td>51</td>\n",
       "      <td>9.16</td>\n",
       "      <td>151266</td>\n",
       "    </tr>\n",
       "  </tbody>\n",
       "</table>\n",
       "</div>"
      ],
      "text/plain": [
       "   anime_id                              name  \\\n",
       "0     32281                    Kimi no Na wa.   \n",
       "1      5114  Fullmetal Alchemist: Brotherhood   \n",
       "2     28977                          Gintama°   \n",
       "3      9253                       Steins;Gate   \n",
       "4      9969                     Gintama&#039;   \n",
       "\n",
       "                                               genre   type episodes  rating  \\\n",
       "0               Drama, Romance, School, Supernatural  Movie        1    9.37   \n",
       "1  Action, Adventure, Drama, Fantasy, Magic, Mili...     TV       64    9.26   \n",
       "2  Action, Comedy, Historical, Parody, Samurai, S...     TV       51    9.25   \n",
       "3                                   Sci-Fi, Thriller     TV       24    9.17   \n",
       "4  Action, Comedy, Historical, Parody, Samurai, S...     TV       51    9.16   \n",
       "\n",
       "   members  \n",
       "0   200630  \n",
       "1   793665  \n",
       "2   114262  \n",
       "3   673572  \n",
       "4   151266  "
      ]
     },
     "execution_count": 60,
     "metadata": {},
     "output_type": "execute_result"
    }
   ],
   "source": [
    "anime_df = pd.read_csv('D:/code/anime.csv')\n",
    "anime_df.head(5)"
   ]
  },
  {
   "cell_type": "code",
   "execution_count": 61,
   "id": "01c7f37e",
   "metadata": {},
   "outputs": [
    {
     "data": {
      "text/plain": [
       "(12294, 7)"
      ]
     },
     "execution_count": 61,
     "metadata": {},
     "output_type": "execute_result"
    }
   ],
   "source": [
    "anime_df.shape"
   ]
  },
  {
   "cell_type": "code",
   "execution_count": 62,
   "id": "1bf370c8",
   "metadata": {
    "execution": {
     "iopub.execute_input": "2022-11-25T13:35:02.387028Z",
     "iopub.status.busy": "2022-11-25T13:35:02.386344Z",
     "iopub.status.idle": "2022-11-25T13:35:02.439596Z",
     "shell.execute_reply": "2022-11-25T13:35:02.438217Z"
    },
    "papermill": {
     "duration": 0.06903,
     "end_time": "2022-11-25T13:35:02.442808",
     "exception": false,
     "start_time": "2022-11-25T13:35:02.373778",
     "status": "completed"
    },
    "tags": []
   },
   "outputs": [
    {
     "name": "stdout",
     "output_type": "stream",
     "text": [
      "\u001b[1m********** SHAPE **********\u001b[0m\n",
      "(12294, 7)\n",
      "\u001b[1m********** INFO **********\u001b[0m\n",
      "<class 'pandas.core.frame.DataFrame'>\n",
      "RangeIndex: 12294 entries, 0 to 12293\n",
      "Data columns (total 7 columns):\n",
      " #   Column    Non-Null Count  Dtype  \n",
      "---  ------    --------------  -----  \n",
      " 0   anime_id  12294 non-null  int64  \n",
      " 1   name      12294 non-null  object \n",
      " 2   genre     12232 non-null  object \n",
      " 3   type      12269 non-null  object \n",
      " 4   episodes  12294 non-null  object \n",
      " 5   rating    12064 non-null  float64\n",
      " 6   members   12294 non-null  int64  \n",
      "dtypes: float64(1), int64(2), object(4)\n",
      "memory usage: 672.5+ KB\n",
      "None\n",
      "\u001b[1m********** TYPES **********\u001b[0m\n",
      "anime_id      int64\n",
      "name         object\n",
      "genre        object\n",
      "type         object\n",
      "episodes     object\n",
      "rating      float64\n",
      "members       int64\n",
      "dtype: object\n",
      "\u001b[1m********** HEAD **********\u001b[0m\n",
      "   anime_id                                               name  \\\n",
      "0     32281                                     Kimi no Na wa.   \n",
      "1      5114                   Fullmetal Alchemist: Brotherhood   \n",
      "2     28977                                           Gintama°   \n",
      "3      9253                                        Steins;Gate   \n",
      "4      9969                                      Gintama&#039;   \n",
      "5     32935  Haikyuu!!: Karasuno Koukou VS Shiratorizawa Ga...   \n",
      "6     11061                             Hunter x Hunter (2011)   \n",
      "7       820                               Ginga Eiyuu Densetsu   \n",
      "8     15335  Gintama Movie: Kanketsu-hen - Yorozuya yo Eien...   \n",
      "9     15417                           Gintama&#039;: Enchousen   \n",
      "\n",
      "                                               genre   type episodes  rating  \\\n",
      "0               Drama, Romance, School, Supernatural  Movie        1    9.37   \n",
      "1  Action, Adventure, Drama, Fantasy, Magic, Mili...     TV       64    9.26   \n",
      "2  Action, Comedy, Historical, Parody, Samurai, S...     TV       51    9.25   \n",
      "3                                   Sci-Fi, Thriller     TV       24    9.17   \n",
      "4  Action, Comedy, Historical, Parody, Samurai, S...     TV       51    9.16   \n",
      "5             Comedy, Drama, School, Shounen, Sports     TV       10    9.15   \n",
      "6            Action, Adventure, Shounen, Super Power     TV      148    9.13   \n",
      "7                     Drama, Military, Sci-Fi, Space    OVA      110    9.11   \n",
      "8  Action, Comedy, Historical, Parody, Samurai, S...  Movie        1    9.10   \n",
      "9  Action, Comedy, Historical, Parody, Samurai, S...     TV       13    9.11   \n",
      "\n",
      "   members  \n",
      "0   200630  \n",
      "1   793665  \n",
      "2   114262  \n",
      "3   673572  \n",
      "4   151266  \n",
      "5    93351  \n",
      "6   425855  \n",
      "7    80679  \n",
      "8    72534  \n",
      "9    81109  \n",
      "\u001b[1m********** TAIL **********\u001b[0m\n",
      "       anime_id                                               name  \\\n",
      "12284     26031                                 Super Erotic Anime   \n",
      "12285     34399                                   Taimanin Asagi 3   \n",
      "12286     10368                                Teleclub no Himitsu   \n",
      "12287      9352                             Tenshi no Habataki Jun   \n",
      "12288      5541                                   The Satisfaction   \n",
      "12289      9316       Toushindai My Lover: Minami tai Mecha-Minami   \n",
      "12290      5543                                        Under World   \n",
      "12291      5621                     Violence Gekiga David no Hoshi   \n",
      "12292      6133  Violence Gekiga Shin David no Hoshi: Inma Dens...   \n",
      "12293     26081                   Yasuji no Pornorama: Yacchimae!!   \n",
      "\n",
      "                              genre   type episodes  rating  members  \n",
      "12284                        Hentai    OVA        2    4.45      118  \n",
      "12285  Demons, Hentai, Supernatural    OVA  Unknown     NaN      485  \n",
      "12286                        Hentai    OVA        2    4.67      148  \n",
      "12287                        Hentai    OVA        1    4.33      201  \n",
      "12288                        Hentai    OVA        1    4.37      166  \n",
      "12289                        Hentai    OVA        1    4.15      211  \n",
      "12290                        Hentai    OVA        1    4.28      183  \n",
      "12291                        Hentai    OVA        4    4.88      219  \n",
      "12292                        Hentai    OVA        1    4.98      175  \n",
      "12293                        Hentai  Movie        1    5.46      142  \n",
      "\u001b[1m********** COLUMNS **********\u001b[0m\n",
      "Index(['anime_id', 'name', 'genre', 'type', 'episodes', 'rating', 'members'], dtype='object')\n",
      "\u001b[1m********** NA **********\u001b[0m\n",
      "anime_id      0\n",
      "name          0\n",
      "genre        62\n",
      "type         25\n",
      "episodes      0\n",
      "rating      230\n",
      "members       0\n",
      "dtype: int64\n"
     ]
    }
   ],
   "source": [
    "def check_df(dataframe, head=10):\n",
    "    print('\\033[1m' + 10*\"*\" + ' SHAPE ' + 10*\"*\" + '\\033[0m')\n",
    "    print(dataframe.shape)\n",
    "    \n",
    "    print('\\033[1m' + 10*\"*\" + ' INFO ' + 10*\"*\" + '\\033[0m')\n",
    "    print(dataframe.info())\n",
    "\n",
    "    print('\\033[1m' + 10*\"*\" + ' TYPES ' + 10*\"*\" + '\\033[0m')\n",
    "    print(dataframe.dtypes)\n",
    "\n",
    "    print('\\033[1m' + 10*\"*\" + ' HEAD ' + 10*\"*\" + '\\033[0m')\n",
    "    print(dataframe.head(head))\n",
    "\n",
    "    print('\\033[1m' + 10*\"*\" + ' TAIL ' + 10*\"*\" + '\\033[0m')\n",
    "    print(dataframe.tail(head))\n",
    "\n",
    "    print('\\033[1m' + 10*\"*\" + ' COLUMNS ' + 10*\"*\" + '\\033[0m')\n",
    "    print(dataframe.columns)\n",
    "    \n",
    "    print('\\033[1m' + 10*\"*\" + ' NA ' + 10*\"*\" + '\\033[0m')\n",
    "    print(dataframe.isnull().sum())\n",
    "check_df(anime_df,10)"
   ]
  },
  {
   "cell_type": "code",
   "execution_count": 63,
   "id": "348b147a",
   "metadata": {},
   "outputs": [
    {
     "name": "stdout",
     "output_type": "stream",
     "text": [
      "\u001b[1m********** MEAN RATING **********\u001b[0m\n"
     ]
    },
    {
     "data": {
      "text/plain": [
       "6.473901690981445"
      ]
     },
     "execution_count": 63,
     "metadata": {},
     "output_type": "execute_result"
    }
   ],
   "source": [
    "    print('\\033[1m' + 10*\"*\" + ' MEAN RATING ' + 10*\"*\" + '\\033[0m')\n",
    "    anime_df['rating'].mean()"
   ]
  },
  {
   "cell_type": "code",
   "execution_count": 64,
   "id": "a1d07f1f",
   "metadata": {},
   "outputs": [
    {
     "data": {
      "text/plain": [
       "<AxesSubplot:xlabel='rating', ylabel='anime_id'>"
      ]
     },
     "execution_count": 64,
     "metadata": {},
     "output_type": "execute_result"
    },
    {
     "data": {
      "image/png": "[encoded data removed]",
      "text/plain": [
       "<Figure size 640x480 with 1 Axes>"
      ]
     },
     "metadata": {},
     "output_type": "display_data"
    }
   ],
   "source": [
    "anime_df.plot.scatter(x='rating', y='anime_id', c='blue')"
   ]
  },
  {
   "cell_type": "code",
   "execution_count": 65,
   "id": "8cf9b0cc",
   "metadata": {
    "execution": {
     "iopub.execute_input": "2022-11-25T13:35:02.491869Z",
     "iopub.status.busy": "2022-11-25T13:35:02.490782Z",
     "iopub.status.idle": "2022-11-25T13:35:02.504778Z",
     "shell.execute_reply": "2022-11-25T13:35:02.503437Z"
    },
    "papermill": {
     "duration": 0.02973,
     "end_time": "2022-11-25T13:35:02.508030",
     "exception": false,
     "start_time": "2022-11-25T13:35:02.478300",
     "status": "completed"
    },
    "tags": []
   },
   "outputs": [],
   "source": [
    "anime_df = anime_df.dropna(axis = 0, subset = ['name'])"
   ]
  },
  {
   "cell_type": "code",
   "execution_count": 66,
   "id": "865a1f49",
   "metadata": {
    "execution": {
     "iopub.execute_input": "2022-11-25T13:35:02.531352Z",
     "iopub.status.busy": "2022-11-25T13:35:02.530936Z",
     "iopub.status.idle": "2022-11-25T13:35:02.546113Z",
     "shell.execute_reply": "2022-11-25T13:35:02.544814Z"
    },
    "papermill": {
     "duration": 0.029827,
     "end_time": "2022-11-25T13:35:02.548680",
     "exception": false,
     "start_time": "2022-11-25T13:35:02.518853",
     "status": "completed"
    },
    "tags": []
   },
   "outputs": [
    {
     "data": {
      "text/html": [
       "<div>\n",
       "<style scoped>\n",
       "    .dataframe tbody tr th:only-of-type {\n",
       "        vertical-align: middle;\n",
       "    }\n",
       "\n",
       "    .dataframe tbody tr th {\n",
       "        vertical-align: top;\n",
       "    }\n",
       "\n",
       "    .dataframe thead th {\n",
       "        text-align: right;\n",
       "    }\n",
       "</style>\n",
       "<table border=\"1\" class=\"dataframe\">\n",
       "  <thead>\n",
       "    <tr style=\"text-align: right;\">\n",
       "      <th></th>\n",
       "      <th>anime_id</th>\n",
       "      <th>name</th>\n",
       "      <th>genre</th>\n",
       "      <th>type</th>\n",
       "      <th>episodes</th>\n",
       "      <th>rating</th>\n",
       "      <th>members</th>\n",
       "    </tr>\n",
       "  </thead>\n",
       "  <tbody>\n",
       "    <tr>\n",
       "      <th>0</th>\n",
       "      <td>32281</td>\n",
       "      <td>Kimi no Na wa.</td>\n",
       "      <td>Drama, Romance, School, Supernatural</td>\n",
       "      <td>Movie</td>\n",
       "      <td>1</td>\n",
       "      <td>9.37</td>\n",
       "      <td>200630</td>\n",
       "    </tr>\n",
       "    <tr>\n",
       "      <th>1</th>\n",
       "      <td>5114</td>\n",
       "      <td>Fullmetal Alchemist: Brotherhood</td>\n",
       "      <td>Action, Adventure, Drama, Fantasy, Magic, Mili...</td>\n",
       "      <td>TV</td>\n",
       "      <td>64</td>\n",
       "      <td>9.26</td>\n",
       "      <td>793665</td>\n",
       "    </tr>\n",
       "    <tr>\n",
       "      <th>2</th>\n",
       "      <td>28977</td>\n",
       "      <td>Gintama°</td>\n",
       "      <td>Action, Comedy, Historical, Parody, Samurai, S...</td>\n",
       "      <td>TV</td>\n",
       "      <td>51</td>\n",
       "      <td>9.25</td>\n",
       "      <td>114262</td>\n",
       "    </tr>\n",
       "    <tr>\n",
       "      <th>3</th>\n",
       "      <td>9253</td>\n",
       "      <td>Steins;Gate</td>\n",
       "      <td>Sci-Fi, Thriller</td>\n",
       "      <td>TV</td>\n",
       "      <td>24</td>\n",
       "      <td>9.17</td>\n",
       "      <td>673572</td>\n",
       "    </tr>\n",
       "    <tr>\n",
       "      <th>4</th>\n",
       "      <td>9969</td>\n",
       "      <td>Gintama&amp;#039;</td>\n",
       "      <td>Action, Comedy, Historical, Parody, Samurai, S...</td>\n",
       "      <td>TV</td>\n",
       "      <td>51</td>\n",
       "      <td>9.16</td>\n",
       "      <td>151266</td>\n",
       "    </tr>\n",
       "    <tr>\n",
       "      <th>5</th>\n",
       "      <td>32935</td>\n",
       "      <td>Haikyuu!!: Karasuno Koukou VS Shiratorizawa Ga...</td>\n",
       "      <td>Comedy, Drama, School, Shounen, Sports</td>\n",
       "      <td>TV</td>\n",
       "      <td>10</td>\n",
       "      <td>9.15</td>\n",
       "      <td>93351</td>\n",
       "    </tr>\n",
       "    <tr>\n",
       "      <th>6</th>\n",
       "      <td>11061</td>\n",
       "      <td>Hunter x Hunter (2011)</td>\n",
       "      <td>Action, Adventure, Shounen, Super Power</td>\n",
       "      <td>TV</td>\n",
       "      <td>148</td>\n",
       "      <td>9.13</td>\n",
       "      <td>425855</td>\n",
       "    </tr>\n",
       "    <tr>\n",
       "      <th>7</th>\n",
       "      <td>820</td>\n",
       "      <td>Ginga Eiyuu Densetsu</td>\n",
       "      <td>Drama, Military, Sci-Fi, Space</td>\n",
       "      <td>OVA</td>\n",
       "      <td>110</td>\n",
       "      <td>9.11</td>\n",
       "      <td>80679</td>\n",
       "    </tr>\n",
       "    <tr>\n",
       "      <th>8</th>\n",
       "      <td>15335</td>\n",
       "      <td>Gintama Movie: Kanketsu-hen - Yorozuya yo Eien...</td>\n",
       "      <td>Action, Comedy, Historical, Parody, Samurai, S...</td>\n",
       "      <td>Movie</td>\n",
       "      <td>1</td>\n",
       "      <td>9.10</td>\n",
       "      <td>72534</td>\n",
       "    </tr>\n",
       "    <tr>\n",
       "      <th>9</th>\n",
       "      <td>15417</td>\n",
       "      <td>Gintama&amp;#039;: Enchousen</td>\n",
       "      <td>Action, Comedy, Historical, Parody, Samurai, S...</td>\n",
       "      <td>TV</td>\n",
       "      <td>13</td>\n",
       "      <td>9.11</td>\n",
       "      <td>81109</td>\n",
       "    </tr>\n",
       "  </tbody>\n",
       "</table>\n",
       "</div>"
      ],
      "text/plain": [
       "   anime_id                                               name  \\\n",
       "0     32281                                     Kimi no Na wa.   \n",
       "1      5114                   Fullmetal Alchemist: Brotherhood   \n",
       "2     28977                                           Gintama°   \n",
       "3      9253                                        Steins;Gate   \n",
       "4      9969                                      Gintama&#039;   \n",
       "5     32935  Haikyuu!!: Karasuno Koukou VS Shiratorizawa Ga...   \n",
       "6     11061                             Hunter x Hunter (2011)   \n",
       "7       820                               Ginga Eiyuu Densetsu   \n",
       "8     15335  Gintama Movie: Kanketsu-hen - Yorozuya yo Eien...   \n",
       "9     15417                           Gintama&#039;: Enchousen   \n",
       "\n",
       "                                               genre   type episodes  rating  \\\n",
       "0               Drama, Romance, School, Supernatural  Movie        1    9.37   \n",
       "1  Action, Adventure, Drama, Fantasy, Magic, Mili...     TV       64    9.26   \n",
       "2  Action, Comedy, Historical, Parody, Samurai, S...     TV       51    9.25   \n",
       "3                                   Sci-Fi, Thriller     TV       24    9.17   \n",
       "4  Action, Comedy, Historical, Parody, Samurai, S...     TV       51    9.16   \n",
       "5             Comedy, Drama, School, Shounen, Sports     TV       10    9.15   \n",
       "6            Action, Adventure, Shounen, Super Power     TV      148    9.13   \n",
       "7                     Drama, Military, Sci-Fi, Space    OVA      110    9.11   \n",
       "8  Action, Comedy, Historical, Parody, Samurai, S...  Movie        1    9.10   \n",
       "9  Action, Comedy, Historical, Parody, Samurai, S...     TV       13    9.11   \n",
       "\n",
       "   members  \n",
       "0   200630  \n",
       "1   793665  \n",
       "2   114262  \n",
       "3   673572  \n",
       "4   151266  \n",
       "5    93351  \n",
       "6   425855  \n",
       "7    80679  \n",
       "8    72534  \n",
       "9    81109  "
      ]
     },
     "execution_count": 66,
     "metadata": {},
     "output_type": "execute_result"
    }
   ],
   "source": [
    "anime_df.head(10)"
   ]
  },
  {
   "cell_type": "code",
   "execution_count": 67,
   "id": "b04b80e4",
   "metadata": {
    "execution": {
     "iopub.execute_input": "2022-11-25T13:35:02.573306Z",
     "iopub.status.busy": "2022-11-25T13:35:02.572851Z",
     "iopub.status.idle": "2022-11-25T13:35:02.588601Z",
     "shell.execute_reply": "2022-11-25T13:35:02.587241Z"
    },
    "papermill": {
     "duration": 0.031139,
     "end_time": "2022-11-25T13:35:02.591462",
     "exception": false,
     "start_time": "2022-11-25T13:35:02.560323",
     "status": "completed"
    },
    "tags": []
   },
   "outputs": [
    {
     "data": {
      "text/html": [
       "<div>\n",
       "<style scoped>\n",
       "    .dataframe tbody tr th:only-of-type {\n",
       "        vertical-align: middle;\n",
       "    }\n",
       "\n",
       "    .dataframe tbody tr th {\n",
       "        vertical-align: top;\n",
       "    }\n",
       "\n",
       "    .dataframe thead th {\n",
       "        text-align: right;\n",
       "    }\n",
       "</style>\n",
       "<table border=\"1\" class=\"dataframe\">\n",
       "  <thead>\n",
       "    <tr style=\"text-align: right;\">\n",
       "      <th></th>\n",
       "      <th>name</th>\n",
       "      <th>rating</th>\n",
       "      <th>members</th>\n",
       "      <th>type</th>\n",
       "      <th>genre</th>\n",
       "    </tr>\n",
       "  </thead>\n",
       "  <tbody>\n",
       "    <tr>\n",
       "      <th>1</th>\n",
       "      <td>Fullmetal Alchemist: Brotherhood</td>\n",
       "      <td>9.26</td>\n",
       "      <td>793665</td>\n",
       "      <td>TV</td>\n",
       "      <td>Action, Adventure, Drama, Fantasy, Magic, Mili...</td>\n",
       "    </tr>\n",
       "    <tr>\n",
       "      <th>3</th>\n",
       "      <td>Steins;Gate</td>\n",
       "      <td>9.17</td>\n",
       "      <td>673572</td>\n",
       "      <td>TV</td>\n",
       "      <td>Sci-Fi, Thriller</td>\n",
       "    </tr>\n",
       "    <tr>\n",
       "      <th>13</th>\n",
       "      <td>Code Geass: Hangyaku no Lelouch R2</td>\n",
       "      <td>8.98</td>\n",
       "      <td>572888</td>\n",
       "      <td>TV</td>\n",
       "      <td>Action, Drama, Mecha, Military, Sci-Fi, Super ...</td>\n",
       "    </tr>\n",
       "    <tr>\n",
       "      <th>19</th>\n",
       "      <td>Code Geass: Hangyaku no Lelouch</td>\n",
       "      <td>8.83</td>\n",
       "      <td>715151</td>\n",
       "      <td>TV</td>\n",
       "      <td>Action, Mecha, Military, School, Sci-Fi, Super...</td>\n",
       "    </tr>\n",
       "    <tr>\n",
       "      <th>23</th>\n",
       "      <td>One Punch Man</td>\n",
       "      <td>8.82</td>\n",
       "      <td>552458</td>\n",
       "      <td>TV</td>\n",
       "      <td>Action, Comedy, Parody, Sci-Fi, Seinen, Super ...</td>\n",
       "    </tr>\n",
       "    <tr>\n",
       "      <th>29</th>\n",
       "      <td>Tengen Toppa Gurren Lagann</td>\n",
       "      <td>8.78</td>\n",
       "      <td>562962</td>\n",
       "      <td>TV</td>\n",
       "      <td>Action, Adventure, Comedy, Mecha, Sci-Fi</td>\n",
       "    </tr>\n",
       "    <tr>\n",
       "      <th>40</th>\n",
       "      <td>Death Note</td>\n",
       "      <td>8.71</td>\n",
       "      <td>1013917</td>\n",
       "      <td>TV</td>\n",
       "      <td>Mystery, Police, Psychological, Supernatural, ...</td>\n",
       "    </tr>\n",
       "    <tr>\n",
       "      <th>74</th>\n",
       "      <td>One Piece</td>\n",
       "      <td>8.58</td>\n",
       "      <td>504862</td>\n",
       "      <td>TV</td>\n",
       "      <td>Action, Adventure, Comedy, Drama, Fantasy, Sho...</td>\n",
       "    </tr>\n",
       "    <tr>\n",
       "      <th>86</th>\n",
       "      <td>Shingeki no Kyojin</td>\n",
       "      <td>8.54</td>\n",
       "      <td>896229</td>\n",
       "      <td>TV</td>\n",
       "      <td>Action, Drama, Fantasy, Shounen, Super Power</td>\n",
       "    </tr>\n",
       "    <tr>\n",
       "      <th>98</th>\n",
       "      <td>Psycho-Pass</td>\n",
       "      <td>8.50</td>\n",
       "      <td>509109</td>\n",
       "      <td>TV</td>\n",
       "      <td>Action, Police, Psychological, Sci-Fi</td>\n",
       "    </tr>\n",
       "  </tbody>\n",
       "</table>\n",
       "</div>"
      ],
      "text/plain": [
       "                                  name  rating  members type  \\\n",
       "1     Fullmetal Alchemist: Brotherhood    9.26   793665   TV   \n",
       "3                          Steins;Gate    9.17   673572   TV   \n",
       "13  Code Geass: Hangyaku no Lelouch R2    8.98   572888   TV   \n",
       "19     Code Geass: Hangyaku no Lelouch    8.83   715151   TV   \n",
       "23                       One Punch Man    8.82   552458   TV   \n",
       "29          Tengen Toppa Gurren Lagann    8.78   562962   TV   \n",
       "40                          Death Note    8.71  1013917   TV   \n",
       "74                           One Piece    8.58   504862   TV   \n",
       "86                  Shingeki no Kyojin    8.54   896229   TV   \n",
       "98                         Psycho-Pass    8.50   509109   TV   \n",
       "\n",
       "                                                genre  \n",
       "1   Action, Adventure, Drama, Fantasy, Magic, Mili...  \n",
       "3                                    Sci-Fi, Thriller  \n",
       "13  Action, Drama, Mecha, Military, Sci-Fi, Super ...  \n",
       "19  Action, Mecha, Military, School, Sci-Fi, Super...  \n",
       "23  Action, Comedy, Parody, Sci-Fi, Seinen, Super ...  \n",
       "29           Action, Adventure, Comedy, Mecha, Sci-Fi  \n",
       "40  Mystery, Police, Psychological, Supernatural, ...  \n",
       "74  Action, Adventure, Comedy, Drama, Fantasy, Sho...  \n",
       "86       Action, Drama, Fantasy, Shounen, Super Power  \n",
       "98              Action, Police, Psychological, Sci-Fi  "
      ]
     },
     "execution_count": 67,
     "metadata": {},
     "output_type": "execute_result"
    }
   ],
   "source": [
    "top10_animerating = anime_df[['name', 'rating', 'members', 'type','genre']].sort_values(by='rating', ascending=False).query('members>500000')[:10]\n",
    "top10_animerating"
   ]
  },
  {
   "cell_type": "code",
   "execution_count": 68,
   "id": "4ad1591a",
   "metadata": {
    "execution": {
     "iopub.execute_input": "2022-11-25T13:35:02.655475Z",
     "iopub.status.busy": "2022-11-25T13:35:02.655069Z",
     "iopub.status.idle": "2022-11-25T13:35:03.011339Z",
     "shell.execute_reply": "2022-11-25T13:35:03.009721Z"
    },
    "papermill": {
     "duration": 0.371538,
     "end_time": "2022-11-25T13:35:03.014173",
     "exception": false,
     "start_time": "2022-11-25T13:35:02.642635",
     "status": "completed"
    },
    "tags": []
   },
   "outputs": [
    {
     "data": {
      "text/plain": [
       "Text(0, 0.5, 'Rating')"
      ]
     },
     "execution_count": 68,
     "metadata": {},
     "output_type": "execute_result"
    },
    {
     "data": {
      "image/png": "[encoded data removed]",
      "text/plain": [
       "<Figure size 640x480 with 1 Axes>"
      ]
     },
     "metadata": {},
     "output_type": "display_data"
    }
   ],
   "source": [
    "ax=sns.barplot(x=\"name\", y=\"rating\", data=top10_animerating, palette=\"Dark2\")\n",
    "ax.set_xticklabels(ax.get_xticklabels(), fontsize=11, rotation=65, ha=\"right\")\n",
    "ax.set_title('Top 10 Anime based on rating',fontsize = 22)\n",
    "ax.set_xlabel('Anime name',fontsize = 20)\n",
    "ax.set_ylabel('Rating', fontsize = 20)"
   ]
  },
  {
   "cell_type": "code",
   "execution_count": 69,
   "id": "4a440675",
   "metadata": {
    "execution": {
     "iopub.execute_input": "2022-11-25T13:35:03.040464Z",
     "iopub.status.busy": "2022-11-25T13:35:03.040022Z",
     "iopub.status.idle": "2022-11-25T13:35:03.263967Z",
     "shell.execute_reply": "2022-11-25T13:35:03.262839Z"
    },
    "papermill": {
     "duration": 0.240824,
     "end_time": "2022-11-25T13:35:03.267389",
     "exception": false,
     "start_time": "2022-11-25T13:35:03.026565",
     "status": "completed"
    },
    "tags": []
   },
   "outputs": [
    {
     "data": {
      "application/vnd.plotly.v1+json": {
       "config": {
        "plotlyServerURL": "https://plot.ly"
       },
       "data": [
        {
         "hoverinfo": "label+percent",
         "labels": [
          "TV",
          "OVA",
          "Movie",
          "Special",
          "ONA",
          "Music"
         ],
         "marker": {
          "colors": [
           "gold",
           "mediumturquoise",
           "darkorange",
           "lightgreen"
          ],
          "line": {
           "color": "#000000",
           "width": 2
          }
         },
         "textfont": {
          "size": 20
         },
         "textinfo": "value",
         "type": "pie",
         "values": [
          3787,
          3311,
          2348,
          1676,
          659,
          488
         ]
        }
       ],
       "layout": {
        "template": {
         "data": {
          "bar": [
           {
            "error_x": {
             "color": "#2a3f5f"
            },
            "error_y": {
             "color": "#2a3f5f"
            },
            "marker": {
             "line": {
              "color": "#E5ECF6",
              "width": 0.5
             },
             "pattern": {
              "fillmode": "overlay",
              "size": 10,
              "solidity": 0.2
             }
            },
            "type": "bar"
           }
          ],
          "barpolar": [
           {
            "marker": {
             "line": {
              "color": "#E5ECF6",
              "width": 0.5
             },
             "pattern": {
              "fillmode": "overlay",
              "size": 10,
              "solidity": 0.2
             }
            },
            "type": "barpolar"
           }
          ],
          "carpet": [
           {
            "aaxis": {
             "endlinecolor": "#2a3f5f",
             "gridcolor": "white",
             "linecolor": "white",
             "minorgridcolor": "white",
             "startlinecolor": "#2a3f5f"
            },
            "baxis": {
             "endlinecolor": "#2a3f5f",
             "gridcolor": "white",
             "linecolor": "white",
             "minorgridcolor": "white",
             "startlinecolor": "#2a3f5f"
            },
            "type": "carpet"
           }
          ],
          "choropleth": [
           {
            "colorbar": {
             "outlinewidth": 0,
             "ticks": ""
            },
            "type": "choropleth"
           }
          ],
          "contour": [
           {
            "colorbar": {
             "outlinewidth": 0,
             "ticks": ""
            },
            "colorscale": [
             [
              0,
              "#0d0887"
             ],
             [
              0.1111111111111111,
              "#46039f"
             ],
             [
              0.2222222222222222,
              "#7201a8"
             ],
             [
              0.3333333333333333,
              "#9c179e"
             ],
             [
              0.4444444444444444,
              "#bd3786"
             ],
             [
              0.5555555555555556,
              "#d8576b"
             ],
             [
              0.6666666666666666,
              "#ed7953"
             ],
             [
              0.7777777777777778,
              "#fb9f3a"
             ],
             [
              0.8888888888888888,
              "#fdca26"
             ],
             [
              1,
              "#f0f921"
             ]
            ],
            "type": "contour"
           }
          ],
          "contourcarpet": [
           {
            "colorbar": {
             "outlinewidth": 0,
             "ticks": ""
            },
            "type": "contourcarpet"
           }
          ],
          "heatmap": [
           {
            "colorbar": {
             "outlinewidth": 0,
             "ticks": ""
            },
            "colorscale": [
             [
              0,
              "#0d0887"
             ],
             [
              0.1111111111111111,
              "#46039f"
             ],
             [
              0.2222222222222222,
              "#7201a8"
             ],
             [
              0.3333333333333333,
              "#9c179e"
             ],
             [
              0.4444444444444444,
              "#bd3786"
             ],
             [
              0.5555555555555556,
              "#d8576b"
             ],
             [
              0.6666666666666666,
              "#ed7953"
             ],
             [
              0.7777777777777778,
              "#fb9f3a"
             ],
             [
              0.8888888888888888,
              "#fdca26"
             ],
             [
              1,
              "#f0f921"
             ]
            ],
            "type": "heatmap"
           }
          ],
          "heatmapgl": [
           {
            "colorbar": {
             "outlinewidth": 0,
             "ticks": ""
            },
            "colorscale": [
             [
              0,
              "#0d0887"
             ],
             [
              0.1111111111111111,
              "#46039f"
             ],
             [
              0.2222222222222222,
              "#7201a8"
             ],
             [
              0.3333333333333333,
              "#9c179e"
             ],
             [
              0.4444444444444444,
              "#bd3786"
             ],
             [
              0.5555555555555556,
              "#d8576b"
             ],
             [
              0.6666666666666666,
              "#ed7953"
             ],
             [
              0.7777777777777778,
              "#fb9f3a"
             ],
             [
              0.8888888888888888,
              "#fdca26"
             ],
             [
              1,
              "#f0f921"
             ]
            ],
            "type": "heatmapgl"
           }
          ],
          "histogram": [
           {
            "marker": {
             "pattern": {
              "fillmode": "overlay",
              "size": 10,
              "solidity": 0.2
             }
            },
            "type": "histogram"
           }
          ],
          "histogram2d": [
           {
            "colorbar": {
             "outlinewidth": 0,
             "ticks": ""
            },
            "colorscale": [
             [
              0,
              "#0d0887"
             ],
             [
              0.1111111111111111,
              "#46039f"
             ],
             [
              0.2222222222222222,
              "#7201a8"
             ],
             [
              0.3333333333333333,
              "#9c179e"
             ],
             [
              0.4444444444444444,
              "#bd3786"
             ],
             [
              0.5555555555555556,
              "#d8576b"
             ],
             [
              0.6666666666666666,
              "#ed7953"
             ],
             [
              0.7777777777777778,
              "#fb9f3a"
             ],
             [
              0.8888888888888888,
              "#fdca26"
             ],
             [
              1,
              "#f0f921"
             ]
            ],
            "type": "histogram2d"
           }
          ],
          "histogram2dcontour": [
           {
            "colorbar": {
             "outlinewidth": 0,
             "ticks": ""
            },
            "colorscale": [
             [
              0,
              "#0d0887"
             ],
             [
              0.1111111111111111,
              "#46039f"
             ],
             [
              0.2222222222222222,
              "#7201a8"
             ],
             [
              0.3333333333333333,
              "#9c179e"
             ],
             [
              0.4444444444444444,
              "#bd3786"
             ],
             [
              0.5555555555555556,
              "#d8576b"
             ],
             [
              0.6666666666666666,
              "#ed7953"
             ],
             [
              0.7777777777777778,
              "#fb9f3a"
             ],
             [
              0.8888888888888888,
              "#fdca26"
             ],
             [
              1,
              "#f0f921"
             ]
            ],
            "type": "histogram2dcontour"
           }
          ],
          "mesh3d": [
           {
            "colorbar": {
             "outlinewidth": 0,
             "ticks": ""
            },
            "type": "mesh3d"
           }
          ],
          "parcoords": [
           {
            "line": {
             "colorbar": {
              "outlinewidth": 0,
              "ticks": ""
             }
            },
            "type": "parcoords"
           }
          ],
          "pie": [
           {
            "automargin": true,
            "type": "pie"
           }
          ],
          "scatter": [
           {
            "fillpattern": {
             "fillmode": "overlay",
             "size": 10,
             "solidity": 0.2
            },
            "type": "scatter"
           }
          ],
          "scatter3d": [
           {
            "line": {
             "colorbar": {
              "outlinewidth": 0,
              "ticks": ""
             }
            },
            "marker": {
             "colorbar": {
              "outlinewidth": 0,
              "ticks": ""
             }
            },
            "type": "scatter3d"
           }
          ],
          "scattercarpet": [
           {
            "marker": {
             "colorbar": {
              "outlinewidth": 0,
              "ticks": ""
             }
            },
            "type": "scattercarpet"
           }
          ],
          "scattergeo": [
           {
            "marker": {
             "colorbar": {
              "outlinewidth": 0,
              "ticks": ""
             }
            },
            "type": "scattergeo"
           }
          ],
          "scattergl": [
           {
            "marker": {
             "colorbar": {
              "outlinewidth": 0,
              "ticks": ""
             }
            },
            "type": "scattergl"
           }
          ],
          "scattermapbox": [
           {
            "marker": {
             "colorbar": {
              "outlinewidth": 0,
              "ticks": ""
             }
            },
            "type": "scattermapbox"
           }
          ],
          "scatterpolar": [
           {
            "marker": {
             "colorbar": {
              "outlinewidth": 0,
              "ticks": ""
             }
            },
            "type": "scatterpolar"
           }
          ],
          "scatterpolargl": [
           {
            "marker": {
             "colorbar": {
              "outlinewidth": 0,
              "ticks": ""
             }
            },
            "type": "scatterpolargl"
           }
          ],
          "scatterternary": [
           {
            "marker": {
             "colorbar": {
              "outlinewidth": 0,
              "ticks": ""
             }
            },
            "type": "scatterternary"
           }
          ],
          "surface": [
           {
            "colorbar": {
             "outlinewidth": 0,
             "ticks": ""
            },
            "colorscale": [
             [
              0,
              "#0d0887"
             ],
             [
              0.1111111111111111,
              "#46039f"
             ],
             [
              0.2222222222222222,
              "#7201a8"
             ],
             [
              0.3333333333333333,
              "#9c179e"
             ],
             [
              0.4444444444444444,
              "#bd3786"
             ],
             [
              0.5555555555555556,
              "#d8576b"
             ],
             [
              0.6666666666666666,
              "#ed7953"
             ],
             [
              0.7777777777777778,
              "#fb9f3a"
             ],
             [
              0.8888888888888888,
              "#fdca26"
             ],
             [
              1,
              "#f0f921"
             ]
            ],
            "type": "surface"
           }
          ],
          "table": [
           {
            "cells": {
             "fill": {
              "color": "#EBF0F8"
             },
             "line": {
              "color": "white"
             }
            },
            "header": {
             "fill": {
              "color": "#C8D4E3"
             },
             "line": {
              "color": "white"
             }
            },
            "type": "table"
           }
          ]
         },
         "layout": {
          "annotationdefaults": {
           "arrowcolor": "#2a3f5f",
           "arrowhead": 0,
           "arrowwidth": 1
          },
          "autotypenumbers": "strict",
          "coloraxis": {
           "colorbar": {
            "outlinewidth": 0,
            "ticks": ""
           }
          },
          "colorscale": {
           "diverging": [
            [
             0,
             "#8e0152"
            ],
            [
             0.1,
             "#c51b7d"
            ],
            [
             0.2,
             "#de77ae"
            ],
            [
             0.3,
             "#f1b6da"
            ],
            [
             0.4,
             "#fde0ef"
            ],
            [
             0.5,
             "#f7f7f7"
            ],
            [
             0.6,
             "#e6f5d0"
            ],
            [
             0.7,
             "#b8e186"
            ],
            [
             0.8,
             "#7fbc41"
            ],
            [
             0.9,
             "#4d9221"
            ],
            [
             1,
             "#276419"
            ]
           ],
           "sequential": [
            [
             0,
             "#0d0887"
            ],
            [
             0.1111111111111111,
             "#46039f"
            ],
            [
             0.2222222222222222,
             "#7201a8"
            ],
            [
             0.3333333333333333,
             "#9c179e"
            ],
            [
             0.4444444444444444,
             "#bd3786"
            ],
            [
             0.5555555555555556,
             "#d8576b"
            ],
            [
             0.6666666666666666,
             "#ed7953"
            ],
            [
             0.7777777777777778,
             "#fb9f3a"
            ],
            [
             0.8888888888888888,
             "#fdca26"
            ],
            [
             1,
             "#f0f921"
            ]
           ],
           "sequentialminus": [
            [
             0,
             "#0d0887"
            ],
            [
             0.1111111111111111,
             "#46039f"
            ],
            [
             0.2222222222222222,
             "#7201a8"
            ],
            [
             0.3333333333333333,
             "#9c179e"
            ],
            [
             0.4444444444444444,
             "#bd3786"
            ],
            [
             0.5555555555555556,
             "#d8576b"
            ],
            [
             0.6666666666666666,
             "#ed7953"
            ],
            [
             0.7777777777777778,
             "#fb9f3a"
            ],
            [
             0.8888888888888888,
             "#fdca26"
            ],
            [
             1,
             "#f0f921"
            ]
           ]
          },
          "colorway": [
           "#636efa",
           "#EF553B",
           "#00cc96",
           "#ab63fa",
           "#FFA15A",
           "#19d3f3",
           "#FF6692",
           "#B6E880",
           "#FF97FF",
           "#FECB52"
          ],
          "font": {
           "color": "#2a3f5f"
          },
          "geo": {
           "bgcolor": "white",
           "lakecolor": "white",
           "landcolor": "#E5ECF6",
           "showlakes": true,
           "showland": true,
           "subunitcolor": "white"
          },
          "hoverlabel": {
           "align": "left"
          },
          "hovermode": "closest",
          "mapbox": {
           "style": "light"
          },
          "paper_bgcolor": "white",
          "plot_bgcolor": "#E5ECF6",
          "polar": {
           "angularaxis": {
            "gridcolor": "white",
            "linecolor": "white",
            "ticks": ""
           },
           "bgcolor": "#E5ECF6",
           "radialaxis": {
            "gridcolor": "white",
            "linecolor": "white",
            "ticks": ""
           }
          },
          "scene": {
           "xaxis": {
            "backgroundcolor": "#E5ECF6",
            "gridcolor": "white",
            "gridwidth": 2,
            "linecolor": "white",
            "showbackground": true,
            "ticks": "",
            "zerolinecolor": "white"
           },
           "yaxis": {
            "backgroundcolor": "#E5ECF6",
            "gridcolor": "white",
            "gridwidth": 2,
            "linecolor": "white",
            "showbackground": true,
            "ticks": "",
            "zerolinecolor": "white"
           },
           "zaxis": {
            "backgroundcolor": "#E5ECF6",
            "gridcolor": "white",
            "gridwidth": 2,
            "linecolor": "white",
            "showbackground": true,
            "ticks": "",
            "zerolinecolor": "white"
           }
          },
          "shapedefaults": {
           "line": {
            "color": "#2a3f5f"
           }
          },
          "ternary": {
           "aaxis": {
            "gridcolor": "white",
            "linecolor": "white",
            "ticks": ""
           },
           "baxis": {
            "gridcolor": "white",
            "linecolor": "white",
            "ticks": ""
           },
           "bgcolor": "#E5ECF6",
           "caxis": {
            "gridcolor": "white",
            "linecolor": "white",
            "ticks": ""
           }
          },
          "title": {
           "x": 0.05
          },
          "xaxis": {
           "automargin": true,
           "gridcolor": "white",
           "linecolor": "white",
           "ticks": "",
           "title": {
            "standoff": 15
           },
           "zerolinecolor": "white",
           "zerolinewidth": 2
          },
          "yaxis": {
           "automargin": true,
           "gridcolor": "white",
           "linecolor": "white",
           "ticks": "",
           "title": {
            "standoff": 15
           },
           "zerolinecolor": "white",
           "zerolinewidth": 2
          }
         }
        },
        "title": {
         "text": "Anime format",
         "x": 0.48,
         "xanchor": "center",
         "y": 0.92,
         "yanchor": "top"
        }
       }
      },
      "text/html": [
       "<div>                            <div id=\"9b5cabac-12e0-4583-9598-afa13e92ffe3\" class=\"plotly-graph-div\" style=\"height:525px; width:100%;\"></div>            <script type=\"text/javascript\">                require([\"plotly\"], function(Plotly) {                    window.PLOTLYENV=window.PLOTLYENV || {};                                    if (document.getElementById(\"9b5cabac-12e0-4583-9598-afa13e92ffe3\")) {                    Plotly.newPlot(                        \"9b5cabac-12e0-4583-9598-afa13e92ffe3\",                        [{\"labels\":[\"TV\",\"OVA\",\"Movie\",\"Special\",\"ONA\",\"Music\"],\"values\":[3787,3311,2348,1676,659,488],\"type\":\"pie\",\"textfont\":{\"size\":20},\"marker\":{\"line\":{\"color\":\"#000000\",\"width\":2},\"colors\":[\"gold\",\"mediumturquoise\",\"darkorange\",\"lightgreen\"]},\"hoverinfo\":\"label+percent\",\"textinfo\":\"value\"}],                        {\"template\":{\"data\":{\"histogram2dcontour\":[{\"type\":\"histogram2dcontour\",\"colorbar\":{\"outlinewidth\":0,\"ticks\":\"\"},\"colorscale\":[[0.0,\"#0d0887\"],[0.1111111111111111,\"#46039f\"],[0.2222222222222222,\"#7201a8\"],[0.3333333333333333,\"#9c179e\"],[0.4444444444444444,\"#bd3786\"],[0.5555555555555556,\"#d8576b\"],[0.6666666666666666,\"#ed7953\"],[0.7777777777777778,\"#fb9f3a\"],[0.8888888888888888,\"#fdca26\"],[1.0,\"#f0f921\"]]}],\"choropleth\":[{\"type\":\"choropleth\",\"colorbar\":{\"outlinewidth\":0,\"ticks\":\"\"}}],\"histogram2d\":[{\"type\":\"histogram2d\",\"colorbar\":{\"outlinewidth\":0,\"ticks\":\"\"},\"colorscale\":[[0.0,\"#0d0887\"],[0.1111111111111111,\"#46039f\"],[0.2222222222222222,\"#7201a8\"],[0.3333333333333333,\"#9c179e\"],[0.4444444444444444,\"#bd3786\"],[0.5555555555555556,\"#d8576b\"],[0.6666666666666666,\"#ed7953\"],[0.7777777777777778,\"#fb9f3a\"],[0.8888888888888888,\"#fdca26\"],[1.0,\"#f0f921\"]]}],\"heatmap\":[{\"type\":\"heatmap\",\"colorbar\":{\"outlinewidth\":0,\"ticks\":\"\"},\"colorscale\":[[0.0,\"#0d0887\"],[0.1111111111111111,\"#46039f\"],[0.2222222222222222,\"#7201a8\"],[0.3333333333333333,\"#9c179e\"],[0.4444444444444444,\"#bd3786\"],[0.5555555555555556,\"#d8576b\"],[0.6666666666666666,\"#ed7953\"],[0.7777777777777778,\"#fb9f3a\"],[0.8888888888888888,\"#fdca26\"],[1.0,\"#f0f921\"]]}],\"heatmapgl\":[{\"type\":\"heatmapgl\",\"colorbar\":{\"outlinewidth\":0,\"ticks\":\"\"},\"colorscale\":[[0.0,\"#0d0887\"],[0.1111111111111111,\"#46039f\"],[0.2222222222222222,\"#7201a8\"],[0.3333333333333333,\"#9c179e\"],[0.4444444444444444,\"#bd3786\"],[0.5555555555555556,\"#d8576b\"],[0.6666666666666666,\"#ed7953\"],[0.7777777777777778,\"#fb9f3a\"],[0.8888888888888888,\"#fdca26\"],[1.0,\"#f0f921\"]]}],\"contourcarpet\":[{\"type\":\"contourcarpet\",\"colorbar\":{\"outlinewidth\":0,\"ticks\":\"\"}}],\"contour\":[{\"type\":\"contour\",\"colorbar\":{\"outlinewidth\":0,\"ticks\":\"\"},\"colorscale\":[[0.0,\"#0d0887\"],[0.1111111111111111,\"#46039f\"],[0.2222222222222222,\"#7201a8\"],[0.3333333333333333,\"#9c179e\"],[0.4444444444444444,\"#bd3786\"],[0.5555555555555556,\"#d8576b\"],[0.6666666666666666,\"#ed7953\"],[0.7777777777777778,\"#fb9f3a\"],[0.8888888888888888,\"#fdca26\"],[1.0,\"#f0f921\"]]}],\"surface\":[{\"type\":\"surface\",\"colorbar\":{\"outlinewidth\":0,\"ticks\":\"\"},\"colorscale\":[[0.0,\"#0d0887\"],[0.1111111111111111,\"#46039f\"],[0.2222222222222222,\"#7201a8\"],[0.3333333333333333,\"#9c179e\"],[0.4444444444444444,\"#bd3786\"],[0.5555555555555556,\"#d8576b\"],[0.6666666666666666,\"#ed7953\"],[0.7777777777777778,\"#fb9f3a\"],[0.8888888888888888,\"#fdca26\"],[1.0,\"#f0f921\"]]}],\"mesh3d\":[{\"type\":\"mesh3d\",\"colorbar\":{\"outlinewidth\":0,\"ticks\":\"\"}}],\"scatter\":[{\"fillpattern\":{\"fillmode\":\"overlay\",\"size\":10,\"solidity\":0.2},\"type\":\"scatter\"}],\"parcoords\":[{\"type\":\"parcoords\",\"line\":{\"colorbar\":{\"outlinewidth\":0,\"ticks\":\"\"}}}],\"scatterpolargl\":[{\"type\":\"scatterpolargl\",\"marker\":{\"colorbar\":{\"outlinewidth\":0,\"ticks\":\"\"}}}],\"bar\":[{\"error_x\":{\"color\":\"#2a3f5f\"},\"error_y\":{\"color\":\"#2a3f5f\"},\"marker\":{\"line\":{\"color\":\"#E5ECF6\",\"width\":0.5},\"pattern\":{\"fillmode\":\"overlay\",\"size\":10,\"solidity\":0.2}},\"type\":\"bar\"}],\"scattergeo\":[{\"type\":\"scattergeo\",\"marker\":{\"colorbar\":{\"outlinewidth\":0,\"ticks\":\"\"}}}],\"scatterpolar\":[{\"type\":\"scatterpolar\",\"marker\":{\"colorbar\":{\"outlinewidth\":0,\"ticks\":\"\"}}}],\"histogram\":[{\"marker\":{\"pattern\":{\"fillmode\":\"overlay\",\"size\":10,\"solidity\":0.2}},\"type\":\"histogram\"}],\"scattergl\":[{\"type\":\"scattergl\",\"marker\":{\"colorbar\":{\"outlinewidth\":0,\"ticks\":\"\"}}}],\"scatter3d\":[{\"type\":\"scatter3d\",\"line\":{\"colorbar\":{\"outlinewidth\":0,\"ticks\":\"\"}},\"marker\":{\"colorbar\":{\"outlinewidth\":0,\"ticks\":\"\"}}}],\"scattermapbox\":[{\"type\":\"scattermapbox\",\"marker\":{\"colorbar\":{\"outlinewidth\":0,\"ticks\":\"\"}}}],\"scatterternary\":[{\"type\":\"scatterternary\",\"marker\":{\"colorbar\":{\"outlinewidth\":0,\"ticks\":\"\"}}}],\"scattercarpet\":[{\"type\":\"scattercarpet\",\"marker\":{\"colorbar\":{\"outlinewidth\":0,\"ticks\":\"\"}}}],\"carpet\":[{\"aaxis\":{\"endlinecolor\":\"#2a3f5f\",\"gridcolor\":\"white\",\"linecolor\":\"white\",\"minorgridcolor\":\"white\",\"startlinecolor\":\"#2a3f5f\"},\"baxis\":{\"endlinecolor\":\"#2a3f5f\",\"gridcolor\":\"white\",\"linecolor\":\"white\",\"minorgridcolor\":\"white\",\"startlinecolor\":\"#2a3f5f\"},\"type\":\"carpet\"}],\"table\":[{\"cells\":{\"fill\":{\"color\":\"#EBF0F8\"},\"line\":{\"color\":\"white\"}},\"header\":{\"fill\":{\"color\":\"#C8D4E3\"},\"line\":{\"color\":\"white\"}},\"type\":\"table\"}],\"barpolar\":[{\"marker\":{\"line\":{\"color\":\"#E5ECF6\",\"width\":0.5},\"pattern\":{\"fillmode\":\"overlay\",\"size\":10,\"solidity\":0.2}},\"type\":\"barpolar\"}],\"pie\":[{\"automargin\":true,\"type\":\"pie\"}]},\"layout\":{\"autotypenumbers\":\"strict\",\"colorway\":[\"#636efa\",\"#EF553B\",\"#00cc96\",\"#ab63fa\",\"#FFA15A\",\"#19d3f3\",\"#FF6692\",\"#B6E880\",\"#FF97FF\",\"#FECB52\"],\"font\":{\"color\":\"#2a3f5f\"},\"hovermode\":\"closest\",\"hoverlabel\":{\"align\":\"left\"},\"paper_bgcolor\":\"white\",\"plot_bgcolor\":\"#E5ECF6\",\"polar\":{\"bgcolor\":\"#E5ECF6\",\"angularaxis\":{\"gridcolor\":\"white\",\"linecolor\":\"white\",\"ticks\":\"\"},\"radialaxis\":{\"gridcolor\":\"white\",\"linecolor\":\"white\",\"ticks\":\"\"}},\"ternary\":{\"bgcolor\":\"#E5ECF6\",\"aaxis\":{\"gridcolor\":\"white\",\"linecolor\":\"white\",\"ticks\":\"\"},\"baxis\":{\"gridcolor\":\"white\",\"linecolor\":\"white\",\"ticks\":\"\"},\"caxis\":{\"gridcolor\":\"white\",\"linecolor\":\"white\",\"ticks\":\"\"}},\"coloraxis\":{\"colorbar\":{\"outlinewidth\":0,\"ticks\":\"\"}},\"colorscale\":{\"sequential\":[[0.0,\"#0d0887\"],[0.1111111111111111,\"#46039f\"],[0.2222222222222222,\"#7201a8\"],[0.3333333333333333,\"#9c179e\"],[0.4444444444444444,\"#bd3786\"],[0.5555555555555556,\"#d8576b\"],[0.6666666666666666,\"#ed7953\"],[0.7777777777777778,\"#fb9f3a\"],[0.8888888888888888,\"#fdca26\"],[1.0,\"#f0f921\"]],\"sequentialminus\":[[0.0,\"#0d0887\"],[0.1111111111111111,\"#46039f\"],[0.2222222222222222,\"#7201a8\"],[0.3333333333333333,\"#9c179e\"],[0.4444444444444444,\"#bd3786\"],[0.5555555555555556,\"#d8576b\"],[0.6666666666666666,\"#ed7953\"],[0.7777777777777778,\"#fb9f3a\"],[0.8888888888888888,\"#fdca26\"],[1.0,\"#f0f921\"]],\"diverging\":[[0,\"#8e0152\"],[0.1,\"#c51b7d\"],[0.2,\"#de77ae\"],[0.3,\"#f1b6da\"],[0.4,\"#fde0ef\"],[0.5,\"#f7f7f7\"],[0.6,\"#e6f5d0\"],[0.7,\"#b8e186\"],[0.8,\"#7fbc41\"],[0.9,\"#4d9221\"],[1,\"#276419\"]]},\"xaxis\":{\"gridcolor\":\"white\",\"linecolor\":\"white\",\"ticks\":\"\",\"title\":{\"standoff\":15},\"zerolinecolor\":\"white\",\"automargin\":true,\"zerolinewidth\":2},\"yaxis\":{\"gridcolor\":\"white\",\"linecolor\":\"white\",\"ticks\":\"\",\"title\":{\"standoff\":15},\"zerolinecolor\":\"white\",\"automargin\":true,\"zerolinewidth\":2},\"scene\":{\"xaxis\":{\"backgroundcolor\":\"#E5ECF6\",\"gridcolor\":\"white\",\"linecolor\":\"white\",\"showbackground\":true,\"ticks\":\"\",\"zerolinecolor\":\"white\",\"gridwidth\":2},\"yaxis\":{\"backgroundcolor\":\"#E5ECF6\",\"gridcolor\":\"white\",\"linecolor\":\"white\",\"showbackground\":true,\"ticks\":\"\",\"zerolinecolor\":\"white\",\"gridwidth\":2},\"zaxis\":{\"backgroundcolor\":\"#E5ECF6\",\"gridcolor\":\"white\",\"linecolor\":\"white\",\"showbackground\":true,\"ticks\":\"\",\"zerolinecolor\":\"white\",\"gridwidth\":2}},\"shapedefaults\":{\"line\":{\"color\":\"#2a3f5f\"}},\"annotationdefaults\":{\"arrowcolor\":\"#2a3f5f\",\"arrowhead\":0,\"arrowwidth\":1},\"geo\":{\"bgcolor\":\"white\",\"landcolor\":\"#E5ECF6\",\"subunitcolor\":\"white\",\"showland\":true,\"showlakes\":true,\"lakecolor\":\"white\"},\"title\":{\"x\":0.05},\"mapbox\":{\"style\":\"light\"}}},\"title\":{\"text\":\"Anime format\",\"y\":0.92,\"x\":0.48,\"xanchor\":\"center\",\"yanchor\":\"top\"}},                        {\"responsive\": true}                    ).then(function(){\n",
       "                            \n",
       "var gd = document.getElementById('9b5cabac-12e0-4583-9598-afa13e92ffe3');\n",
       "var x = new MutationObserver(function (mutations, observer) {{\n",
       "        var display = window.getComputedStyle(gd).display;\n",
       "        if (!display || display === 'none') {{\n",
       "            console.log([gd, 'removed!']);\n",
       "            Plotly.purge(gd);\n",
       "            observer.disconnect();\n",
       "        }}\n",
       "}});\n",
       "\n",
       "// Listen for the removal of the full notebook cells\n",
       "var notebookContainer = gd.closest('#notebook-container');\n",
       "if (notebookContainer) {{\n",
       "    x.observe(notebookContainer, {childList: true});\n",
       "}}\n",
       "\n",
       "// Listen for the clearing of the current output cell\n",
       "var outputEl = gd.closest('.output');\n",
       "if (outputEl) {{\n",
       "    x.observe(outputEl, {childList: true});\n",
       "}}\n",
       "\n",
       "                        })                };                });            </script>        </div>"
      ]
     },
     "metadata": {},
     "output_type": "display_data"
    }
   ],
   "source": [
    "# Medium of streaming:\n",
    "\n",
    "import plotly.graph_objects as go\n",
    "labels = anime_df['type'].value_counts().index\n",
    "values = anime_df['type'].value_counts().values\n",
    "colors = ['gold', 'mediumturquoise', 'darkorange', 'lightgreen']\n",
    "fig = go.Figure(data=[go.Pie(labels=labels,\n",
    "                             values=values)])\n",
    "fig.update_traces(hoverinfo='label+percent', textinfo='value', textfont_size=20,\n",
    "                  marker=dict(colors=colors, line=dict(color='#000000', width=2)))\n",
    "\n",
    "fig.update_layout(\n",
    "    title={\n",
    "        'text': \"Anime format\",\n",
    "        'y':0.92,\n",
    "        'x':0.48,\n",
    "        'xanchor': 'center',\n",
    "        'yanchor': 'top'})\n",
    "\n",
    "fig.show();"
   ]
  },
  {
   "cell_type": "markdown",
   "id": "91c5c966",
   "metadata": {
    "papermill": {
     "duration": 0.012264,
     "end_time": "2022-11-25T13:35:03.292502",
     "exception": false,
     "start_time": "2022-11-25T13:35:03.280238",
     "status": "completed"
    },
    "tags": []
   },
   "source": [
    "### So we see that, %30.9 of the anime's were aired on TV followed by %27 through OVA and %19.1 of anime's are streamed as Movie which is greater than Special"
   ]
  },
  {
   "cell_type": "code",
   "execution_count": 70,
   "id": "e25f8f2e",
   "metadata": {
    "execution": {
     "iopub.execute_input": "2022-11-25T13:35:03.320140Z",
     "iopub.status.busy": "2022-11-25T13:35:03.318549Z",
     "iopub.status.idle": "2022-11-25T13:35:03.340908Z",
     "shell.execute_reply": "2022-11-25T13:35:03.339721Z"
    },
    "papermill": {
     "duration": 0.038963,
     "end_time": "2022-11-25T13:35:03.343782",
     "exception": false,
     "start_time": "2022-11-25T13:35:03.304819",
     "status": "completed"
    },
    "tags": []
   },
   "outputs": [
    {
     "data": {
      "text/plain": [
       "anime_id    0\n",
       "name        0\n",
       "genre       0\n",
       "type        0\n",
       "episodes    0\n",
       "rating      0\n",
       "members     0\n",
       "dtype: int64"
      ]
     },
     "execution_count": 70,
     "metadata": {},
     "output_type": "execute_result"
    }
   ],
   "source": [
    "anime_df = anime_df.dropna(axis = 0, how ='any')\n",
    "anime_df.isnull().sum()"
   ]
  },
  {
   "cell_type": "code",
   "execution_count": 71,
   "id": "d5b39168",
   "metadata": {},
   "outputs": [],
   "source": [
    "anime_df['genre'] = anime_df['genre'].fillna('')"
   ]
  },
  {
   "cell_type": "code",
   "execution_count": 72,
   "id": "06cba455",
   "metadata": {
    "execution": {
     "iopub.execute_input": "2022-11-25T13:35:03.372259Z",
     "iopub.status.busy": "2022-11-25T13:35:03.371804Z",
     "iopub.status.idle": "2022-11-25T13:35:03.378611Z",
     "shell.execute_reply": "2022-11-25T13:35:03.376734Z"
    },
    "papermill": {
     "duration": 0.02492,
     "end_time": "2022-11-25T13:35:03.381699",
     "exception": false,
     "start_time": "2022-11-25T13:35:03.356779",
     "status": "completed"
    },
    "tags": []
   },
   "outputs": [],
   "source": [
    "tfidf = TfidfVectorizer(stop_words=\"english\")"
   ]
  },
  {
   "cell_type": "code",
   "execution_count": 73,
   "id": "b03c6b34",
   "metadata": {
    "execution": {
     "iopub.execute_input": "2022-11-25T13:35:03.449098Z",
     "iopub.status.busy": "2022-11-25T13:35:03.448063Z",
     "iopub.status.idle": "2022-11-25T13:35:03.548571Z",
     "shell.execute_reply": "2022-11-25T13:35:03.547533Z"
    },
    "papermill": {
     "duration": 0.117555,
     "end_time": "2022-11-25T13:35:03.551046",
     "exception": false,
     "start_time": "2022-11-25T13:35:03.433491",
     "status": "completed"
    },
    "tags": []
   },
   "outputs": [
    {
     "data": {
      "text/plain": [
       "(12017, 46)"
      ]
     },
     "execution_count": 73,
     "metadata": {},
     "output_type": "execute_result"
    }
   ],
   "source": [
    "tfidf_matrix = tfidf.fit_transform(anime_df['genre'])\n",
    "tfidf_matrix.shape"
   ]
  },
  {
   "cell_type": "code",
   "execution_count": 74,
   "id": "809ea6a5",
   "metadata": {
    "execution": {
     "iopub.execute_input": "2022-11-25T13:35:03.579312Z",
     "iopub.status.busy": "2022-11-25T13:35:03.578010Z",
     "iopub.status.idle": "2022-11-25T13:35:03.587735Z",
     "shell.execute_reply": "2022-11-25T13:35:03.586179Z"
    },
    "papermill": {
     "duration": 0.026992,
     "end_time": "2022-11-25T13:35:03.590844",
     "exception": false,
     "start_time": "2022-11-25T13:35:03.563852",
     "status": "completed"
    },
    "tags": []
   },
   "outputs": [
    {
     "data": {
      "text/plain": [
       "['action',\n",
       " 'adventure',\n",
       " 'ai',\n",
       " 'arts',\n",
       " 'cars',\n",
       " 'comedy',\n",
       " 'dementia',\n",
       " 'demons',\n",
       " 'drama',\n",
       " 'ecchi',\n",
       " 'fantasy',\n",
       " 'fi',\n",
       " 'game',\n",
       " 'harem',\n",
       " 'hentai',\n",
       " 'historical',\n",
       " 'horror',\n",
       " 'josei',\n",
       " 'kids',\n",
       " 'life',\n",
       " 'magic',\n",
       " 'martial',\n",
       " 'mecha',\n",
       " 'military',\n",
       " 'music',\n",
       " 'mystery',\n",
       " 'parody',\n",
       " 'police',\n",
       " 'power',\n",
       " 'psychological',\n",
       " 'romance',\n",
       " 'samurai',\n",
       " 'school',\n",
       " 'sci',\n",
       " 'seinen',\n",
       " 'shoujo',\n",
       " 'shounen',\n",
       " 'slice',\n",
       " 'space',\n",
       " 'sports',\n",
       " 'super',\n",
       " 'supernatural',\n",
       " 'thriller',\n",
       " 'vampire',\n",
       " 'yaoi',\n",
       " 'yuri']"
      ]
     },
     "execution_count": 74,
     "metadata": {},
     "output_type": "execute_result"
    }
   ],
   "source": [
    "tfidf.get_feature_names()"
   ]
  },
  {
   "cell_type": "code",
   "execution_count": 75,
   "id": "c1ec3d3f",
   "metadata": {
    "execution": {
     "iopub.execute_input": "2022-11-25T13:35:03.620107Z",
     "iopub.status.busy": "2022-11-25T13:35:03.619634Z",
     "iopub.status.idle": "2022-11-25T13:35:03.634334Z",
     "shell.execute_reply": "2022-11-25T13:35:03.633178Z"
    },
    "papermill": {
     "duration": 0.034066,
     "end_time": "2022-11-25T13:35:03.637811",
     "exception": false,
     "start_time": "2022-11-25T13:35:03.603745",
     "status": "completed"
    },
    "tags": []
   },
   "outputs": [
    {
     "data": {
      "text/plain": [
       "array([[0.        , 0.        , 0.        , ..., 0.        , 0.        ,\n",
       "        0.        ],\n",
       "       [0.29498527, 0.3162867 , 0.        , ..., 0.        , 0.        ,\n",
       "        0.        ],\n",
       "       [0.2516182 , 0.        , 0.        , ..., 0.        , 0.        ,\n",
       "        0.        ],\n",
       "       ...,\n",
       "       [0.        , 0.        , 0.        , ..., 0.        , 0.        ,\n",
       "        0.        ],\n",
       "       [0.        , 0.        , 0.        , ..., 0.        , 0.        ,\n",
       "        0.        ],\n",
       "       [0.        , 0.        , 0.        , ..., 0.        , 0.        ,\n",
       "        0.        ]])"
      ]
     },
     "execution_count": 75,
     "metadata": {},
     "output_type": "execute_result"
    }
   ],
   "source": [
    "# tfıdf scores:\n",
    "\n",
    "tfidf_matrix.toarray() "
   ]
  },
  {
   "cell_type": "code",
   "execution_count": 76,
   "id": "5b8146cc",
   "metadata": {
    "execution": {
     "iopub.execute_input": "2022-11-25T13:35:03.667238Z",
     "iopub.status.busy": "2022-11-25T13:35:03.666028Z",
     "iopub.status.idle": "2022-11-25T13:35:06.461676Z",
     "shell.execute_reply": "2022-11-25T13:35:06.460529Z"
    },
    "papermill": {
     "duration": 2.813489,
     "end_time": "2022-11-25T13:35:06.464368",
     "exception": false,
     "start_time": "2022-11-25T13:35:03.650879",
     "status": "completed"
    },
    "tags": []
   },
   "outputs": [
    {
     "data": {
      "text/plain": [
       "(12017, 12017)"
      ]
     },
     "execution_count": 76,
     "metadata": {},
     "output_type": "execute_result"
    }
   ],
   "source": [
    "# impression scores of each movie with other animes:\n",
    "\n",
    "cosine_sim = cosine_similarity(tfidf_matrix,\n",
    "                               tfidf_matrix)\n",
    "cosine_sim.shape"
   ]
  },
  {
   "cell_type": "code",
   "execution_count": 77,
   "id": "24f016ec",
   "metadata": {
    "execution": {
     "iopub.execute_input": "2022-11-25T13:35:06.528472Z",
     "iopub.status.busy": "2022-11-25T13:35:06.527244Z",
     "iopub.status.idle": "2022-11-25T13:35:06.534513Z",
     "shell.execute_reply": "2022-11-25T13:35:06.533509Z"
    },
    "papermill": {
     "duration": 0.023743,
     "end_time": "2022-11-25T13:35:06.536606",
     "exception": false,
     "start_time": "2022-11-25T13:35:06.512863",
     "status": "completed"
    },
    "tags": []
   },
   "outputs": [
    {
     "data": {
      "text/plain": [
       "array([0.14715318, 1.        , 0.17877808, ..., 0.        , 0.        ,\n",
       "       0.        ])"
      ]
     },
     "execution_count": 77,
     "metadata": {},
     "output_type": "execute_result"
    }
   ],
   "source": [
    "cosine_sim[1] "
   ]
  },
  {
   "cell_type": "code",
   "execution_count": 78,
   "id": "c1243e72",
   "metadata": {
    "execution": {
     "iopub.execute_input": "2022-11-25T13:35:06.565738Z",
     "iopub.status.busy": "2022-11-25T13:35:06.564742Z",
     "iopub.status.idle": "2022-11-25T13:35:06.582073Z",
     "shell.execute_reply": "2022-11-25T13:35:06.581157Z"
    },
    "papermill": {
     "duration": 0.034504,
     "end_time": "2022-11-25T13:35:06.584580",
     "exception": false,
     "start_time": "2022-11-25T13:35:06.550076",
     "status": "completed"
    },
    "tags": []
   },
   "outputs": [
    {
     "data": {
      "text/plain": [
       "Shi Wan Ge Leng Xiaohua                                                                            2\n",
       "Saru Kani Gassen                                                                                   2\n",
       "CCW: Crazy Clay Wrestling                                                                          1\n",
       "Crayon Angel                                                                                       1\n",
       "Koumon-teki Juuku Ketsujiru Juke                                                                   1\n",
       "                                                                                                  ..\n",
       "Bakusou Kyoudai Let&#039;s &amp; Go!! WGP Bousou Mini Yonku Daitsuiseki                            1\n",
       "Beet the Vandel Buster Excellion                                                                   1\n",
       "Black Jack ONA                                                                                     1\n",
       "Crayon Shin-chan Manatsu no Yoru ni Ora Sanjou! Arashi wo Yobu Den-O vs. Shin-O 60-bu Special!!    1\n",
       "Yasuji no Pornorama: Yacchimae!!                                                                   1\n",
       "Name: name, Length: 12015, dtype: int64"
      ]
     },
     "execution_count": 78,
     "metadata": {},
     "output_type": "execute_result"
    }
   ],
   "source": [
    "indices = pd.Series(anime_df.index, index=anime_df['name'])\n",
    "indices.index.value_counts()"
   ]
  },
  {
   "cell_type": "code",
   "execution_count": 79,
   "id": "72deae64",
   "metadata": {
    "execution": {
     "iopub.execute_input": "2022-11-25T13:35:06.613362Z",
     "iopub.status.busy": "2022-11-25T13:35:06.612638Z",
     "iopub.status.idle": "2022-11-25T13:35:06.619822Z",
     "shell.execute_reply": "2022-11-25T13:35:06.618997Z"
    },
    "papermill": {
     "duration": 0.024168,
     "end_time": "2022-11-25T13:35:06.621990",
     "exception": false,
     "start_time": "2022-11-25T13:35:06.597822",
     "status": "completed"
    },
    "tags": []
   },
   "outputs": [
    {
     "data": {
      "text/plain": [
       "name\n",
       "Kimi no Na wa.                                               0\n",
       "Fullmetal Alchemist: Brotherhood                             1\n",
       "Gintama°                                                     2\n",
       "Steins;Gate                                                  3\n",
       "Gintama&#039;                                                4\n",
       "Haikyuu!!: Karasuno Koukou VS Shiratorizawa Gakuen Koukou    5\n",
       "Hunter x Hunter (2011)                                       6\n",
       "Ginga Eiyuu Densetsu                                         7\n",
       "Gintama Movie: Kanketsu-hen - Yorozuya yo Eien Nare          8\n",
       "Gintama&#039;: Enchousen                                     9\n",
       "dtype: int64"
      ]
     },
     "execution_count": 79,
     "metadata": {},
     "output_type": "execute_result"
    }
   ],
   "source": [
    "indices.head(10)"
   ]
  },
  {
   "cell_type": "code",
   "execution_count": 80,
   "id": "d1acdf00",
   "metadata": {
    "execution": {
     "iopub.execute_input": "2022-11-25T13:35:06.651087Z",
     "iopub.status.busy": "2022-11-25T13:35:06.650039Z",
     "iopub.status.idle": "2022-11-25T13:35:06.657848Z",
     "shell.execute_reply": "2022-11-25T13:35:06.656993Z"
    },
    "papermill": {
     "duration": 0.024805,
     "end_time": "2022-11-25T13:35:06.660234",
     "exception": false,
     "start_time": "2022-11-25T13:35:06.635429",
     "status": "completed"
    },
    "tags": []
   },
   "outputs": [],
   "source": [
    "indices = indices[~indices.index.duplicated(keep='last')]"
   ]
  },
  {
   "cell_type": "code",
   "execution_count": 81,
   "id": "95f02556",
   "metadata": {
    "execution": {
     "iopub.execute_input": "2022-11-25T13:35:06.689008Z",
     "iopub.status.busy": "2022-11-25T13:35:06.688181Z",
     "iopub.status.idle": "2022-11-25T13:35:06.695117Z",
     "shell.execute_reply": "2022-11-25T13:35:06.693920Z"
    },
    "papermill": {
     "duration": 0.024226,
     "end_time": "2022-11-25T13:35:06.697860",
     "exception": false,
     "start_time": "2022-11-25T13:35:06.673634",
     "status": "completed"
    },
    "tags": []
   },
   "outputs": [],
   "source": [
    "anime_index = indices[\"Gintama°\"]"
   ]
  },
  {
   "cell_type": "code",
   "execution_count": 82,
   "id": "8a908ead",
   "metadata": {
    "execution": {
     "iopub.execute_input": "2022-11-25T13:35:06.726777Z",
     "iopub.status.busy": "2022-11-25T13:35:06.726336Z",
     "iopub.status.idle": "2022-11-25T13:35:06.734525Z",
     "shell.execute_reply": "2022-11-25T13:35:06.733278Z"
    },
    "papermill": {
     "duration": 0.025724,
     "end_time": "2022-11-25T13:35:06.737074",
     "exception": false,
     "start_time": "2022-11-25T13:35:06.711350",
     "status": "completed"
    },
    "tags": []
   },
   "outputs": [
    {
     "data": {
      "text/plain": [
       "array([0.        , 0.17877808, 1.        , ..., 0.        , 0.        ,\n",
       "       0.        ])"
      ]
     },
     "execution_count": 82,
     "metadata": {},
     "output_type": "execute_result"
    }
   ],
   "source": [
    "cosine_sim[anime_index]"
   ]
  },
  {
   "cell_type": "code",
   "execution_count": 83,
   "id": "6f630c9f",
   "metadata": {
    "execution": {
     "iopub.execute_input": "2022-11-25T13:35:06.767031Z",
     "iopub.status.busy": "2022-11-25T13:35:06.766578Z",
     "iopub.status.idle": "2022-11-25T13:35:06.780498Z",
     "shell.execute_reply": "2022-11-25T13:35:06.778565Z"
    },
    "papermill": {
     "duration": 0.03227,
     "end_time": "2022-11-25T13:35:06.783282",
     "exception": false,
     "start_time": "2022-11-25T13:35:06.751012",
     "status": "completed"
    },
    "tags": []
   },
   "outputs": [
    {
     "data": {
      "text/plain": [
       "216                     Gintama: Shinyaku Benizakura-hen\n",
       "63           Gintama: Yorinuki Gintama-san on Theater 2D\n",
       "65                Gintama Movie: Shinyaku Benizakura-hen\n",
       "12                                               Gintama\n",
       "9                               Gintama&#039;: Enchousen\n",
       "306                     Gintama: Jump Festa 2014 Special\n",
       "4                                          Gintama&#039;\n",
       "2                                               Gintama°\n",
       "380    Gintama: Nanigoto mo Saiyo ga Kanjin nano de T...\n",
       "361                     Gintama: Jump Festa 2015 Special\n",
       "Name: name, dtype: object"
      ]
     },
     "execution_count": 83,
     "metadata": {},
     "output_type": "execute_result"
    }
   ],
   "source": [
    "similarity_scores = pd.DataFrame(cosine_sim[anime_index],\n",
    "                                 columns=[\"score\"])\n",
    "\n",
    "similarity_scores # Similarity scores of the movie \"Saru Kani Gassen\" compared to other movies\n",
    "\n",
    "anime_indices = similarity_scores.sort_values(\"score\", ascending=False)[1:11].index\n",
    "\n",
    "anime_df['name'].iloc[anime_indices]"
   ]
  },
  {
   "cell_type": "code",
   "execution_count": 84,
   "id": "a0e0599a",
   "metadata": {
    "execution": {
     "iopub.execute_input": "2022-11-25T13:35:06.812862Z",
     "iopub.status.busy": "2022-11-25T13:35:06.811758Z",
     "iopub.status.idle": "2022-11-25T13:35:06.821076Z",
     "shell.execute_reply": "2022-11-25T13:35:06.819946Z"
    },
    "papermill": {
     "duration": 0.026584,
     "end_time": "2022-11-25T13:35:06.823613",
     "exception": false,
     "start_time": "2022-11-25T13:35:06.797029",
     "status": "completed"
    },
    "tags": []
   },
   "outputs": [
    {
     "data": {
      "text/plain": [
       "5818    Fortune Quest: Yo ni mo Shiawase na Boukensha-...\n",
       "Name: name, dtype: object"
      ]
     },
     "execution_count": 84,
     "metadata": {},
     "output_type": "execute_result"
    }
   ],
   "source": [
    "random_anime = anime_df['name'].sample()\n",
    "random_anime"
   ]
  },
  {
   "cell_type": "code",
   "execution_count": 85,
   "id": "8fbdb0ac",
   "metadata": {
    "execution": {
     "iopub.execute_input": "2022-11-25T13:35:06.854046Z",
     "iopub.status.busy": "2022-11-25T13:35:06.853632Z",
     "iopub.status.idle": "2022-11-25T13:35:06.858885Z",
     "shell.execute_reply": "2022-11-25T13:35:06.858016Z"
    },
    "papermill": {
     "duration": 0.023815,
     "end_time": "2022-11-25T13:35:06.861269",
     "exception": false,
     "start_time": "2022-11-25T13:35:06.837454",
     "status": "completed"
    },
    "tags": []
   },
   "outputs": [],
   "source": [
    "similarity_scores = pd.DataFrame(cosine_sim[random_anime.index.values[0]], columns=['score'])"
   ]
  },
  {
   "cell_type": "code",
   "execution_count": 86,
   "id": "6984dd05",
   "metadata": {
    "execution": {
     "iopub.execute_input": "2022-11-25T13:35:06.893080Z",
     "iopub.status.busy": "2022-11-25T13:35:06.891861Z",
     "iopub.status.idle": "2022-11-25T13:35:06.899566Z",
     "shell.execute_reply": "2022-11-25T13:35:06.898323Z"
    },
    "papermill": {
     "duration": 0.026145,
     "end_time": "2022-11-25T13:35:06.902202",
     "exception": false,
     "start_time": "2022-11-25T13:35:06.876057",
     "status": "completed"
    },
    "tags": []
   },
   "outputs": [
    {
     "data": {
      "text/html": [
       "<div>\n",
       "<style scoped>\n",
       "    .dataframe tbody tr th:only-of-type {\n",
       "        vertical-align: middle;\n",
       "    }\n",
       "\n",
       "    .dataframe tbody tr th {\n",
       "        vertical-align: top;\n",
       "    }\n",
       "\n",
       "    .dataframe thead th {\n",
       "        text-align: right;\n",
       "    }\n",
       "</style>\n",
       "<table border=\"1\" class=\"dataframe\">\n",
       "  <thead>\n",
       "    <tr style=\"text-align: right;\">\n",
       "      <th></th>\n",
       "      <th>score</th>\n",
       "    </tr>\n",
       "  </thead>\n",
       "  <tbody>\n",
       "    <tr>\n",
       "      <th>10653</th>\n",
       "      <td>1.0</td>\n",
       "    </tr>\n",
       "    <tr>\n",
       "      <th>10810</th>\n",
       "      <td>1.0</td>\n",
       "    </tr>\n",
       "    <tr>\n",
       "      <th>10218</th>\n",
       "      <td>1.0</td>\n",
       "    </tr>\n",
       "    <tr>\n",
       "      <th>9059</th>\n",
       "      <td>1.0</td>\n",
       "    </tr>\n",
       "    <tr>\n",
       "      <th>3491</th>\n",
       "      <td>1.0</td>\n",
       "    </tr>\n",
       "  </tbody>\n",
       "</table>\n",
       "</div>"
      ],
      "text/plain": [
       "       score\n",
       "10653    1.0\n",
       "10810    1.0\n",
       "10218    1.0\n",
       "9059     1.0\n",
       "3491     1.0"
      ]
     },
     "execution_count": 86,
     "metadata": {},
     "output_type": "execute_result"
    }
   ],
   "source": [
    "anime_indices = similarity_scores.sort_values('score', ascending=False)\n",
    "anime_indices.head()"
   ]
  },
  {
   "cell_type": "code",
   "execution_count": 87,
   "id": "4d8d885b",
   "metadata": {
    "execution": {
     "iopub.execute_input": "2022-11-25T13:35:06.973787Z",
     "iopub.status.busy": "2022-11-25T13:35:06.973380Z",
     "iopub.status.idle": "2022-11-25T13:35:06.983256Z",
     "shell.execute_reply": "2022-11-25T13:35:06.981980Z"
    },
    "papermill": {
     "duration": 0.027993,
     "end_time": "2022-11-25T13:35:06.985798",
     "exception": false,
     "start_time": "2022-11-25T13:35:06.957805",
     "status": "completed"
    },
    "tags": []
   },
   "outputs": [
    {
     "data": {
      "text/plain": [
       "Int64Index([10810, 10218, 9059, 3491, 7259, 10370, 3579, 4892, 6348], dtype='int64')"
      ]
     },
     "execution_count": 87,
     "metadata": {},
     "output_type": "execute_result"
    }
   ],
   "source": [
    "anime_indices = anime_indices[anime_indices['score'] >= 0.50][1:10].index\n",
    "anime_indices"
   ]
  },
  {
   "cell_type": "code",
   "execution_count": 88,
   "id": "ea5ab691",
   "metadata": {
    "execution": {
     "iopub.execute_input": "2022-11-25T13:35:07.015711Z",
     "iopub.status.busy": "2022-11-25T13:35:07.015309Z",
     "iopub.status.idle": "2022-11-25T13:35:07.024043Z",
     "shell.execute_reply": "2022-11-25T13:35:07.022681Z"
    },
    "papermill": {
     "duration": 0.026441,
     "end_time": "2022-11-25T13:35:07.026493",
     "exception": false,
     "start_time": "2022-11-25T13:35:07.000052",
     "status": "completed"
    },
    "tags": []
   },
   "outputs": [
    {
     "data": {
      "text/plain": [
       "10858                                         Yuusei Kamen\n",
       "10262                        Shitamachi Alien PapiPipiPupi\n",
       "9091                           Kaitei Toshi no Dekiru made\n",
       "3492                         Glass no Hana to Kowasu Sekai\n",
       "7265                                               Prayers\n",
       "10414    Subarashii Sekai Ryokou: New York Tabi &quot;C...\n",
       "3581                                     Fireball Charming\n",
       "4894     Computer Kakumei: Saikyou x Saisoku no Zunou T...\n",
       "6351                                     Daikyouryuu Jidai\n",
       "Name: name, dtype: object"
      ]
     },
     "execution_count": 88,
     "metadata": {},
     "output_type": "execute_result"
    }
   ],
   "source": [
    "anime_df['name'].iloc[anime_indices]"
   ]
  },
  {
   "cell_type": "markdown",
   "id": "f71920e2",
   "metadata": {
    "papermill": {
     "duration": 0.013911,
     "end_time": "2022-11-25T13:35:07.055331",
     "exception": false,
     "start_time": "2022-11-25T13:35:07.041420",
     "status": "completed"
    },
    "tags": []
   },
   "source": [
    "### Functionalize the recommend system"
   ]
  },
  {
   "cell_type": "code",
   "execution_count": 89,
   "id": "054add1b",
   "metadata": {
    "execution": {
     "iopub.execute_input": "2022-11-25T13:35:07.086276Z",
     "iopub.status.busy": "2022-11-25T13:35:07.085793Z",
     "iopub.status.idle": "2022-11-25T13:35:07.094010Z",
     "shell.execute_reply": "2022-11-25T13:35:07.092707Z"
    },
    "papermill": {
     "duration": 0.026191,
     "end_time": "2022-11-25T13:35:07.096306",
     "exception": false,
     "start_time": "2022-11-25T13:35:07.070115",
     "status": "completed"
    },
    "tags": []
   },
   "outputs": [],
   "source": [
    "def content_based_recommender(name, cosine_sim, dataframe):\n",
    "    # we create indexes\n",
    "    indices = pd.Series(dataframe.index, index=dataframe['name'])\n",
    "    indices = indices[~indices.index.duplicated(keep='last')]\n",
    "    # we catch the name of index\n",
    "    anime_index = indices[name]\n",
    "    # we calculate the similarity score\n",
    "    similarity_scores = pd.DataFrame(cosine_sim[anime_index], columns=['score'])\n",
    "    # we recommend 3 anime\n",
    "    anime_indices = similarity_scores.sort_values('score', ascending=False)\n",
    "    anime_indices = anime_indices[anime_indices['score'] > 0.50][1:4].index\n",
    "    \n",
    "    return dataframe['name'].iloc[anime_indices]"
   ]
  },
  {
   "cell_type": "code",
   "execution_count": 90,
   "id": "a8da8b6d",
   "metadata": {
    "execution": {
     "iopub.execute_input": "2022-11-25T13:35:07.130266Z",
     "iopub.status.busy": "2022-11-25T13:35:07.129831Z",
     "iopub.status.idle": "2022-11-25T13:35:07.145919Z",
     "shell.execute_reply": "2022-11-25T13:35:07.144710Z"
    },
    "papermill": {
     "duration": 0.037998,
     "end_time": "2022-11-25T13:35:07.148491",
     "exception": false,
     "start_time": "2022-11-25T13:35:07.110493",
     "status": "completed"
    },
    "tags": []
   },
   "outputs": [
    {
     "data": {
      "text/plain": [
       "3                                            Steins;Gate\n",
       "126                Steins;Gate: Oukoubakko no Poriomania\n",
       "196    Steins;Gate: Kyoukaimenjou no Missing Link - D...\n",
       "Name: name, dtype: object"
      ]
     },
     "execution_count": 90,
     "metadata": {},
     "output_type": "execute_result"
    }
   ],
   "source": [
    "content_based_recommender(\"Steins;Gate\", cosine_sim, anime_df)"
   ]
  },
  {
   "cell_type": "code",
   "execution_count": 91,
   "id": "1f1ebd0d",
   "metadata": {
    "execution": {
     "iopub.execute_input": "2022-11-25T13:35:07.180804Z",
     "iopub.status.busy": "2022-11-25T13:35:07.180376Z",
     "iopub.status.idle": "2022-11-25T13:35:07.186736Z",
     "shell.execute_reply": "2022-11-25T13:35:07.185527Z"
    },
    "papermill": {
     "duration": 0.024632,
     "end_time": "2022-11-25T13:35:07.189136",
     "exception": false,
     "start_time": "2022-11-25T13:35:07.164504",
     "status": "completed"
    },
    "tags": []
   },
   "outputs": [],
   "source": [
    "def calculate_cosine_sim(dataframe):\n",
    "    tfidf = TfidfVectorizer(stop_words='english')\n",
    "    dataframe['genre'] = dataframe['genre'].fillna('')\n",
    "    tfidf_matrix = tfidf.fit_transform(dataframe['genre'])\n",
    "    cosine_sim = cosine_similarity(tfidf_matrix, tfidf_matrix)\n",
    "    return cosine_sim"
   ]
  },
  {
   "cell_type": "code",
   "execution_count": 92,
   "id": "6b4749f9",
   "metadata": {
    "execution": {
     "iopub.execute_input": "2022-11-25T13:35:07.219375Z",
     "iopub.status.busy": "2022-11-25T13:35:07.218945Z",
     "iopub.status.idle": "2022-11-25T13:35:10.130514Z",
     "shell.execute_reply": "2022-11-25T13:35:10.129323Z"
    },
    "papermill": {
     "duration": 2.929682,
     "end_time": "2022-11-25T13:35:10.133178",
     "exception": false,
     "start_time": "2022-11-25T13:35:07.203496",
     "status": "completed"
    },
    "tags": []
   },
   "outputs": [
    {
     "data": {
      "text/plain": [
       "3                                            Steins;Gate\n",
       "126                Steins;Gate: Oukoubakko no Poriomania\n",
       "196    Steins;Gate: Kyoukaimenjou no Missing Link - D...\n",
       "Name: name, dtype: object"
      ]
     },
     "execution_count": 92,
     "metadata": {},
     "output_type": "execute_result"
    }
   ],
   "source": [
    "cosine_sim = calculate_cosine_sim(anime_df)\n",
    "content_based_recommender('Steins;Gate', cosine_sim, anime_df)"
   ]
  },
  {
   "cell_type": "code",
   "execution_count": 93,
   "id": "7872f0bc",
   "metadata": {
    "execution": {
     "iopub.execute_input": "2022-11-25T13:35:10.164309Z",
     "iopub.status.busy": "2022-11-25T13:35:10.163845Z",
     "iopub.status.idle": "2022-11-25T13:35:10.169123Z",
     "shell.execute_reply": "2022-11-25T13:35:10.167628Z"
    },
    "papermill": {
     "duration": 0.024765,
     "end_time": "2022-11-25T13:35:10.172372",
     "exception": false,
     "start_time": "2022-11-25T13:35:10.147607",
     "status": "completed"
    },
    "tags": []
   },
   "outputs": [],
   "source": [
    "#  Let's watch these anime now"
   ]
  },
  {
   "cell_type": "markdown",
   "id": "7ab7dd14",
   "metadata": {
    "papermill": {
     "duration": 0.014181,
     "end_time": "2022-11-25T13:35:10.201020",
     "exception": false,
     "start_time": "2022-11-25T13:35:10.186839",
     "status": "completed"
    },
    "tags": []
   },
   "source": [
    "![](https://upload.wikimedia.org/wikipedia/tr/8/8e/One_Piece.PNG)"
   ]
  },
  {
   "cell_type": "markdown",
   "id": "eefc0b5d",
   "metadata": {
    "papermill": {
     "duration": 0.014108,
     "end_time": "2022-11-25T13:35:10.229557",
     "exception": false,
     "start_time": "2022-11-25T13:35:10.215449",
     "status": "completed"
    },
    "tags": []
   },
   "source": [
    "### In this notebook, a recommendation algorithm based on cosine similarity was created."
   ]
  },
  {
   "cell_type": "markdown",
   "id": "c8c03d3a",
   "metadata": {
    "papermill": {
     "duration": 0.014201,
     "end_time": "2022-11-25T13:35:10.259318",
     "exception": false,
     "start_time": "2022-11-25T13:35:10.245117",
     "status": "completed"
    },
    "tags": []
   },
   "source": [
    "### If you liked the notebook please upvote! :)"
   ]
  }
 ],
 "metadata": {
  "kernelspec": {
   "display_name": "Python 3 (ipykernel)",
   "language": "python",
   "name": "python3"
  },
  "language_info": {
   "codemirror_mode": {
    "name": "ipython",
    "version": 3
   },
   "file_extension": ".py",
   "mimetype": "text/x-python",
   "name": "python",
   "nbconvert_exporter": "python",
   "pygments_lexer": "ipython3",
   "version": "3.9.13"
  },
  "papermill": {
   "default_parameters": {},
   "duration": 22.695097,
   "end_time": "2022-11-25T13:35:11.197349",
   "environment_variables": {},
   "exception": null,
   "input_path": "__notebook__.ipynb",
   "output_path": "__notebook__.ipynb",
   "parameters": {},
   "start_time": "2022-11-25T13:34:48.502252",
   "version": "2.3.4"
  }
 },
 "nbformat": 4,
 "nbformat_minor": 5
}
